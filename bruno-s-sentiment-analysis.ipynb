{
 "cells": [
  {
   "cell_type": "markdown",
   "id": "dad6f11c",
   "metadata": {
    "papermill": {
     "duration": 0.006349,
     "end_time": "2023-09-22T14:39:24.999761",
     "exception": false,
     "start_time": "2023-09-22T14:39:24.993412",
     "status": "completed"
    },
    "tags": []
   },
   "source": [
    "# Bruno's Sentiment Analysis With Neural Networks"
   ]
  },
  {
   "cell_type": "code",
   "execution_count": 1,
   "id": "afccdb45",
   "metadata": {
    "execution": {
     "iopub.execute_input": "2023-09-22T14:39:25.015509Z",
     "iopub.status.busy": "2023-09-22T14:39:25.015099Z",
     "iopub.status.idle": "2023-09-22T14:39:40.288113Z",
     "shell.execute_reply": "2023-09-22T14:39:40.286689Z"
    },
    "papermill": {
     "duration": 15.283053,
     "end_time": "2023-09-22T14:39:40.290699",
     "exception": false,
     "start_time": "2023-09-22T14:39:25.007646",
     "status": "completed"
    },
    "tags": []
   },
   "outputs": [
    {
     "name": "stdout",
     "output_type": "stream",
     "text": [
      "Collecting Keras-Preprocessing\r\n",
      "  Downloading Keras_Preprocessing-1.1.2-py2.py3-none-any.whl (42 kB)\r\n",
      "\u001b[2K     \u001b[90m━━━━━━━━━━━━━━━━━━━━━━━━━━━━━━━━━━━━━━━━\u001b[0m \u001b[32m42.6/42.6 kB\u001b[0m \u001b[31m2.6 MB/s\u001b[0m eta \u001b[36m0:00:00\u001b[0m\r\n",
      "\u001b[?25hRequirement already satisfied: numpy>=1.9.1 in /opt/conda/lib/python3.10/site-packages (from Keras-Preprocessing) (1.23.5)\r\n",
      "Requirement already satisfied: six>=1.9.0 in /opt/conda/lib/python3.10/site-packages (from Keras-Preprocessing) (1.16.0)\r\n",
      "Installing collected packages: Keras-Preprocessing\r\n",
      "Successfully installed Keras-Preprocessing-1.1.2\r\n",
      "Note: you may need to restart the kernel to use updated packages.\n"
     ]
    }
   ],
   "source": [
    "pip install Keras-Preprocessing"
   ]
  },
  {
   "cell_type": "code",
   "execution_count": 2,
   "id": "425b968d",
   "metadata": {
    "execution": {
     "iopub.execute_input": "2023-09-22T14:39:40.305702Z",
     "iopub.status.busy": "2023-09-22T14:39:40.305328Z",
     "iopub.status.idle": "2023-09-22T14:39:42.425899Z",
     "shell.execute_reply": "2023-09-22T14:39:42.424736Z"
    },
    "papermill": {
     "duration": 2.131516,
     "end_time": "2023-09-22T14:39:42.428802",
     "exception": false,
     "start_time": "2023-09-22T14:39:40.297286",
     "status": "completed"
    },
    "tags": []
   },
   "outputs": [],
   "source": [
    "import pandas as pd\n",
    "from sklearn.model_selection import train_test_split\n",
    "from sklearn.feature_extraction.text import TfidfVectorizer\n",
    "from sklearn.linear_model import LogisticRegression\n",
    "from sklearn.metrics import classification_report, accuracy_score"
   ]
  },
  {
   "cell_type": "code",
   "execution_count": 3,
   "id": "4d2d1a95",
   "metadata": {
    "execution": {
     "iopub.execute_input": "2023-09-22T14:39:42.444512Z",
     "iopub.status.busy": "2023-09-22T14:39:42.443949Z",
     "iopub.status.idle": "2023-09-22T14:39:42.677156Z",
     "shell.execute_reply": "2023-09-22T14:39:42.675944Z"
    },
    "papermill": {
     "duration": 0.243948,
     "end_time": "2023-09-22T14:39:42.679494",
     "exception": false,
     "start_time": "2023-09-22T14:39:42.435546",
     "status": "completed"
    },
    "tags": []
   },
   "outputs": [
    {
     "data": {
      "text/html": [
       "<div>\n",
       "<style scoped>\n",
       "    .dataframe tbody tr th:only-of-type {\n",
       "        vertical-align: middle;\n",
       "    }\n",
       "\n",
       "    .dataframe tbody tr th {\n",
       "        vertical-align: top;\n",
       "    }\n",
       "\n",
       "    .dataframe thead th {\n",
       "        text-align: right;\n",
       "    }\n",
       "</style>\n",
       "<table border=\"1\" class=\"dataframe\">\n",
       "  <thead>\n",
       "    <tr style=\"text-align: right;\">\n",
       "      <th></th>\n",
       "      <th>source</th>\n",
       "      <th>review_description</th>\n",
       "      <th>rating</th>\n",
       "      <th>review_date</th>\n",
       "    </tr>\n",
       "  </thead>\n",
       "  <tbody>\n",
       "    <tr>\n",
       "      <th>0</th>\n",
       "      <td>Google Play</td>\n",
       "      <td>Very good app for Android phone and me</td>\n",
       "      <td>5</td>\n",
       "      <td>27-08-2023 10:31</td>\n",
       "    </tr>\n",
       "    <tr>\n",
       "      <th>1</th>\n",
       "      <td>Google Play</td>\n",
       "      <td>Sl👍👍👍👍</td>\n",
       "      <td>5</td>\n",
       "      <td>27-08-2023 10:28</td>\n",
       "    </tr>\n",
       "    <tr>\n",
       "      <th>2</th>\n",
       "      <td>Google Play</td>\n",
       "      <td>Best app</td>\n",
       "      <td>5</td>\n",
       "      <td>27-08-2023 9:47</td>\n",
       "    </tr>\n",
       "    <tr>\n",
       "      <th>3</th>\n",
       "      <td>Google Play</td>\n",
       "      <td>Gatiya app</td>\n",
       "      <td>1</td>\n",
       "      <td>27-08-2023 9:13</td>\n",
       "    </tr>\n",
       "    <tr>\n",
       "      <th>4</th>\n",
       "      <td>Google Play</td>\n",
       "      <td>Lit bruv</td>\n",
       "      <td>5</td>\n",
       "      <td>27-08-2023 9:00</td>\n",
       "    </tr>\n",
       "  </tbody>\n",
       "</table>\n",
       "</div>"
      ],
      "text/plain": [
       "        source                      review_description  rating  \\\n",
       "0  Google Play  Very good app for Android phone and me       5   \n",
       "1  Google Play                                  Sl👍👍👍👍       5   \n",
       "2  Google Play                                Best app       5   \n",
       "3  Google Play                              Gatiya app       1   \n",
       "4  Google Play                                Lit bruv       5   \n",
       "\n",
       "        review_date  \n",
       "0  27-08-2023 10:31  \n",
       "1  27-08-2023 10:28  \n",
       "2   27-08-2023 9:47  \n",
       "3   27-08-2023 9:13  \n",
       "4   27-08-2023 9:00  "
      ]
     },
     "execution_count": 3,
     "metadata": {},
     "output_type": "execute_result"
    }
   ],
   "source": [
    "threads_reviews = pd.read_csv('/kaggle/input/threads-app-reviews-dataset/threads_reviews.csv')\n",
    "threads_reviews.head()"
   ]
  },
  {
   "cell_type": "markdown",
   "id": "bf6bbdb6",
   "metadata": {
    "papermill": {
     "duration": 0.006519,
     "end_time": "2023-09-22T14:39:42.692900",
     "exception": false,
     "start_time": "2023-09-22T14:39:42.686381",
     "status": "completed"
    },
    "tags": []
   },
   "source": [
    "### Categorize Sentiment by Rating"
   ]
  },
  {
   "cell_type": "code",
   "execution_count": 4,
   "id": "2b81d324",
   "metadata": {
    "execution": {
     "iopub.execute_input": "2023-09-22T14:39:42.708474Z",
     "iopub.status.busy": "2023-09-22T14:39:42.708079Z",
     "iopub.status.idle": "2023-09-22T14:39:42.739493Z",
     "shell.execute_reply": "2023-09-22T14:39:42.738349Z"
    },
    "papermill": {
     "duration": 0.042675,
     "end_time": "2023-09-22T14:39:42.742352",
     "exception": false,
     "start_time": "2023-09-22T14:39:42.699677",
     "status": "completed"
    },
    "tags": []
   },
   "outputs": [
    {
     "data": {
      "text/html": [
       "<div>\n",
       "<style scoped>\n",
       "    .dataframe tbody tr th:only-of-type {\n",
       "        vertical-align: middle;\n",
       "    }\n",
       "\n",
       "    .dataframe tbody tr th {\n",
       "        vertical-align: top;\n",
       "    }\n",
       "\n",
       "    .dataframe thead th {\n",
       "        text-align: right;\n",
       "    }\n",
       "</style>\n",
       "<table border=\"1\" class=\"dataframe\">\n",
       "  <thead>\n",
       "    <tr style=\"text-align: right;\">\n",
       "      <th></th>\n",
       "      <th>source</th>\n",
       "      <th>review_description</th>\n",
       "      <th>rating</th>\n",
       "      <th>review_date</th>\n",
       "      <th>sentiment</th>\n",
       "    </tr>\n",
       "  </thead>\n",
       "  <tbody>\n",
       "    <tr>\n",
       "      <th>0</th>\n",
       "      <td>Google Play</td>\n",
       "      <td>Very good app for Android phone and me</td>\n",
       "      <td>5</td>\n",
       "      <td>27-08-2023 10:31</td>\n",
       "      <td>positive</td>\n",
       "    </tr>\n",
       "    <tr>\n",
       "      <th>1</th>\n",
       "      <td>Google Play</td>\n",
       "      <td>Sl👍👍👍👍</td>\n",
       "      <td>5</td>\n",
       "      <td>27-08-2023 10:28</td>\n",
       "      <td>positive</td>\n",
       "    </tr>\n",
       "    <tr>\n",
       "      <th>2</th>\n",
       "      <td>Google Play</td>\n",
       "      <td>Best app</td>\n",
       "      <td>5</td>\n",
       "      <td>27-08-2023 9:47</td>\n",
       "      <td>positive</td>\n",
       "    </tr>\n",
       "    <tr>\n",
       "      <th>3</th>\n",
       "      <td>Google Play</td>\n",
       "      <td>Gatiya app</td>\n",
       "      <td>1</td>\n",
       "      <td>27-08-2023 9:13</td>\n",
       "      <td>negative</td>\n",
       "    </tr>\n",
       "    <tr>\n",
       "      <th>4</th>\n",
       "      <td>Google Play</td>\n",
       "      <td>Lit bruv</td>\n",
       "      <td>5</td>\n",
       "      <td>27-08-2023 9:00</td>\n",
       "      <td>positive</td>\n",
       "    </tr>\n",
       "  </tbody>\n",
       "</table>\n",
       "</div>"
      ],
      "text/plain": [
       "        source                      review_description  rating  \\\n",
       "0  Google Play  Very good app for Android phone and me       5   \n",
       "1  Google Play                                  Sl👍👍👍👍       5   \n",
       "2  Google Play                                Best app       5   \n",
       "3  Google Play                              Gatiya app       1   \n",
       "4  Google Play                                Lit bruv       5   \n",
       "\n",
       "        review_date sentiment  \n",
       "0  27-08-2023 10:31  positive  \n",
       "1  27-08-2023 10:28  positive  \n",
       "2   27-08-2023 9:47  positive  \n",
       "3   27-08-2023 9:13  negative  \n",
       "4   27-08-2023 9:00  positive  "
      ]
     },
     "execution_count": 4,
     "metadata": {},
     "output_type": "execute_result"
    }
   ],
   "source": [
    "def categorize_sentiment(rating):\n",
    "    if rating >= 4:\n",
    "        return 'positive'\n",
    "    elif rating == 3:\n",
    "        return 'neutral'\n",
    "    else:\n",
    "        return 'negative'\n",
    "\n",
    "threads_reviews['sentiment'] = threads_reviews['rating'].apply(categorize_sentiment)\n",
    "\n",
    "threads_reviews.head()"
   ]
  },
  {
   "cell_type": "markdown",
   "id": "49335a07",
   "metadata": {
    "papermill": {
     "duration": 0.006862,
     "end_time": "2023-09-22T14:39:42.756957",
     "exception": false,
     "start_time": "2023-09-22T14:39:42.750095",
     "status": "completed"
    },
    "tags": []
   },
   "source": [
    "### Preparing Data for Model Training"
   ]
  },
  {
   "cell_type": "code",
   "execution_count": 5,
   "id": "d035a9a6",
   "metadata": {
    "execution": {
     "iopub.execute_input": "2023-09-22T14:39:42.775641Z",
     "iopub.status.busy": "2023-09-22T14:39:42.774179Z",
     "iopub.status.idle": "2023-09-22T14:39:42.794641Z",
     "shell.execute_reply": "2023-09-22T14:39:42.793518Z"
    },
    "papermill": {
     "duration": 0.032432,
     "end_time": "2023-09-22T14:39:42.797224",
     "exception": false,
     "start_time": "2023-09-22T14:39:42.764792",
     "status": "completed"
    },
    "tags": []
   },
   "outputs": [
    {
     "data": {
      "text/plain": [
       "((32348,), (8087,))"
      ]
     },
     "execution_count": 5,
     "metadata": {},
     "output_type": "execute_result"
    }
   ],
   "source": [
    "X = threads_reviews['review_description']\n",
    "y = threads_reviews['sentiment']\n",
    "\n",
    "X_train, X_test, y_train, y_test = train_test_split(X, y, test_size=0.20, random_state=42)\n",
    "\n",
    "X_train.shape, X_test.shape"
   ]
  },
  {
   "cell_type": "markdown",
   "id": "b943b95a",
   "metadata": {
    "papermill": {
     "duration": 0.007027,
     "end_time": "2023-09-22T14:39:42.811967",
     "exception": false,
     "start_time": "2023-09-22T14:39:42.804940",
     "status": "completed"
    },
    "tags": []
   },
   "source": [
    "#### Tokenizing Text"
   ]
  },
  {
   "cell_type": "code",
   "execution_count": 6,
   "id": "b994b14e",
   "metadata": {
    "execution": {
     "iopub.execute_input": "2023-09-22T14:39:42.828714Z",
     "iopub.status.busy": "2023-09-22T14:39:42.828326Z",
     "iopub.status.idle": "2023-09-22T14:39:53.084758Z",
     "shell.execute_reply": "2023-09-22T14:39:53.083611Z"
    },
    "papermill": {
     "duration": 10.267698,
     "end_time": "2023-09-22T14:39:53.087298",
     "exception": false,
     "start_time": "2023-09-22T14:39:42.819600",
     "status": "completed"
    },
    "tags": []
   },
   "outputs": [
    {
     "data": {
      "text/plain": [
       "((32348, 200), (8087, 200))"
      ]
     },
     "execution_count": 6,
     "metadata": {},
     "output_type": "execute_result"
    }
   ],
   "source": [
    "from keras.preprocessing.text import Tokenizer\n",
    "from keras_preprocessing.sequence import pad_sequences\n",
    "\n",
    "max_words = 5000\n",
    "max_len = 200\n",
    "\n",
    "tokenizer = Tokenizer(num_words=max_words, oov_token='<OOV>')\n",
    "tokenizer.fit_on_texts(X_train)\n",
    "\n",
    "X_train_sequences = tokenizer.texts_to_sequences(X_train)\n",
    "X_test_sequences = tokenizer.texts_to_sequences(X_test)\n",
    "\n",
    "X_train_padded = pad_sequences(X_train_sequences, maxlen=max_len, padding='post', truncating='post')\n",
    "X_test_padded = pad_sequences(X_test_sequences, maxlen=max_len, padding='post', truncating='post')\n",
    "\n",
    "X_train_padded.shape, X_test_padded.shape"
   ]
  },
  {
   "cell_type": "markdown",
   "id": "6ac258f6",
   "metadata": {
    "papermill": {
     "duration": 0.007039,
     "end_time": "2023-09-22T14:39:53.102067",
     "exception": false,
     "start_time": "2023-09-22T14:39:53.095028",
     "status": "completed"
    },
    "tags": []
   },
   "source": [
    "#### Neural Network Architecture"
   ]
  },
  {
   "cell_type": "code",
   "execution_count": 7,
   "id": "00a3e0e7",
   "metadata": {
    "execution": {
     "iopub.execute_input": "2023-09-22T14:39:53.118804Z",
     "iopub.status.busy": "2023-09-22T14:39:53.118047Z",
     "iopub.status.idle": "2023-09-22T14:39:53.311348Z",
     "shell.execute_reply": "2023-09-22T14:39:53.310399Z"
    },
    "papermill": {
     "duration": 0.204836,
     "end_time": "2023-09-22T14:39:53.314104",
     "exception": false,
     "start_time": "2023-09-22T14:39:53.109268",
     "status": "completed"
    },
    "tags": []
   },
   "outputs": [],
   "source": [
    "from keras.models import Sequential\n",
    "from keras.layers import Embedding, GlobalAveragePooling1D, Dense\n",
    "\n",
    "model = Sequential([\n",
    "    Embedding(max_words, 24, input_length=max_len),\n",
    "    GlobalAveragePooling1D(),\n",
    "    Dense(32, activation='relu'),\n",
    "    Dense(3, activation='softmax')\n",
    "])\n",
    "\n",
    "model.compile(optimizer='adam', loss='categorical_crossentropy', metrics=['accuracy'])\n"
   ]
  },
  {
   "cell_type": "code",
   "execution_count": 8,
   "id": "ab16176b",
   "metadata": {
    "execution": {
     "iopub.execute_input": "2023-09-22T14:39:53.330626Z",
     "iopub.status.busy": "2023-09-22T14:39:53.330250Z",
     "iopub.status.idle": "2023-09-22T14:39:53.351133Z",
     "shell.execute_reply": "2023-09-22T14:39:53.350179Z"
    },
    "papermill": {
     "duration": 0.031646,
     "end_time": "2023-09-22T14:39:53.353402",
     "exception": false,
     "start_time": "2023-09-22T14:39:53.321756",
     "status": "completed"
    },
    "tags": []
   },
   "outputs": [],
   "source": [
    "from keras.utils import to_categorical\n",
    "from sklearn.preprocessing import LabelEncoder\n",
    "\n",
    "encoder = LabelEncoder()\n",
    "y_train_encoded = encoder.fit_transform(y_train)\n",
    "y_test_encoded = encoder.transform(y_test)\n",
    "\n",
    "y_train_categorical = to_categorical(y_train_encoded)\n",
    "y_test_categorical = to_categorical(y_test_encoded)"
   ]
  },
  {
   "cell_type": "markdown",
   "id": "dc38e5b3",
   "metadata": {
    "papermill": {
     "duration": 0.007172,
     "end_time": "2023-09-22T14:39:53.367913",
     "exception": false,
     "start_time": "2023-09-22T14:39:53.360741",
     "status": "completed"
    },
    "tags": []
   },
   "source": [
    "#### Run model 15 times and check its accuracy"
   ]
  },
  {
   "cell_type": "code",
   "execution_count": 9,
   "id": "986a8d92",
   "metadata": {
    "execution": {
     "iopub.execute_input": "2023-09-22T14:39:53.384572Z",
     "iopub.status.busy": "2023-09-22T14:39:53.383545Z",
     "iopub.status.idle": "2023-09-22T14:40:52.082021Z",
     "shell.execute_reply": "2023-09-22T14:40:52.080920Z"
    },
    "papermill": {
     "duration": 58.709627,
     "end_time": "2023-09-22T14:40:52.084725",
     "exception": false,
     "start_time": "2023-09-22T14:39:53.375098",
     "status": "completed"
    },
    "tags": []
   },
   "outputs": [
    {
     "name": "stdout",
     "output_type": "stream",
     "text": [
      "Epoch 1/15\n",
      "1011/1011 [==============================] - 5s 4ms/step - loss: 0.8635 - accuracy: 0.5812 - val_loss: 0.7785 - val_accuracy: 0.6515\n",
      "Epoch 2/15\n",
      "1011/1011 [==============================] - 4s 4ms/step - loss: 0.6836 - accuracy: 0.7269 - val_loss: 0.6113 - val_accuracy: 0.7712\n",
      "Epoch 3/15\n",
      "1011/1011 [==============================] - 4s 4ms/step - loss: 0.5788 - accuracy: 0.7907 - val_loss: 0.5760 - val_accuracy: 0.7911\n",
      "Epoch 4/15\n",
      "1011/1011 [==============================] - 4s 4ms/step - loss: 0.5455 - accuracy: 0.8030 - val_loss: 0.5573 - val_accuracy: 0.7961\n",
      "Epoch 5/15\n",
      "1011/1011 [==============================] - 4s 4ms/step - loss: 0.5235 - accuracy: 0.8104 - val_loss: 0.5552 - val_accuracy: 0.8008\n",
      "Epoch 6/15\n",
      "1011/1011 [==============================] - 4s 4ms/step - loss: 0.5068 - accuracy: 0.8166 - val_loss: 0.5430 - val_accuracy: 0.8041\n",
      "Epoch 7/15\n",
      "1011/1011 [==============================] - 4s 4ms/step - loss: 0.4940 - accuracy: 0.8209 - val_loss: 0.5418 - val_accuracy: 0.8046\n",
      "Epoch 8/15\n",
      "1011/1011 [==============================] - 4s 4ms/step - loss: 0.4815 - accuracy: 0.8250 - val_loss: 0.5503 - val_accuracy: 0.7967\n",
      "Epoch 9/15\n",
      "1011/1011 [==============================] - 4s 4ms/step - loss: 0.4747 - accuracy: 0.8276 - val_loss: 0.5393 - val_accuracy: 0.8055\n",
      "Epoch 10/15\n",
      "1011/1011 [==============================] - 4s 4ms/step - loss: 0.4664 - accuracy: 0.8309 - val_loss: 0.5589 - val_accuracy: 0.7999\n",
      "Epoch 11/15\n",
      "1011/1011 [==============================] - 4s 4ms/step - loss: 0.4580 - accuracy: 0.8333 - val_loss: 0.5451 - val_accuracy: 0.8003\n",
      "Epoch 12/15\n",
      "1011/1011 [==============================] - 4s 4ms/step - loss: 0.4528 - accuracy: 0.8349 - val_loss: 0.5782 - val_accuracy: 0.7895\n",
      "Epoch 13/15\n",
      "1011/1011 [==============================] - 4s 4ms/step - loss: 0.4468 - accuracy: 0.8363 - val_loss: 0.5491 - val_accuracy: 0.8043\n",
      "Epoch 14/15\n",
      "1011/1011 [==============================] - 4s 4ms/step - loss: 0.4406 - accuracy: 0.8400 - val_loss: 0.5546 - val_accuracy: 0.8009\n",
      "Epoch 15/15\n",
      "1011/1011 [==============================] - 4s 4ms/step - loss: 0.4341 - accuracy: 0.8432 - val_loss: 0.5679 - val_accuracy: 0.7951\n"
     ]
    }
   ],
   "source": [
    "history = model.fit(X_train_padded, y_train_categorical, epochs=15, validation_data=(X_test_padded, y_test_categorical), batch_size=32)"
   ]
  },
  {
   "cell_type": "code",
   "execution_count": 10,
   "id": "266f4ae3",
   "metadata": {
    "execution": {
     "iopub.execute_input": "2023-09-22T14:40:52.284813Z",
     "iopub.status.busy": "2023-09-22T14:40:52.283563Z",
     "iopub.status.idle": "2023-09-22T14:40:52.797212Z",
     "shell.execute_reply": "2023-09-22T14:40:52.796148Z"
    },
    "papermill": {
     "duration": 0.614875,
     "end_time": "2023-09-22T14:40:52.799521",
     "exception": false,
     "start_time": "2023-09-22T14:40:52.184646",
     "status": "completed"
    },
    "tags": []
   },
   "outputs": [
    {
     "name": "stdout",
     "output_type": "stream",
     "text": [
      "253/253 [==============================] - 0s 2ms/step - loss: 0.5679 - accuracy: 0.7951\n",
      "Test Accuracy: 79.51%\n"
     ]
    }
   ],
   "source": [
    "loss, accuracy = model.evaluate(X_test_padded, y_test_categorical)\n",
    "print(f\"Test Accuracy: {accuracy * 100:.2f}%\")"
   ]
  },
  {
   "cell_type": "code",
   "execution_count": 11,
   "id": "8ec142fa",
   "metadata": {
    "execution": {
     "iopub.execute_input": "2023-09-22T14:40:53.068379Z",
     "iopub.status.busy": "2023-09-22T14:40:53.067974Z",
     "iopub.status.idle": "2023-09-22T14:40:53.103068Z",
     "shell.execute_reply": "2023-09-22T14:40:53.101866Z"
    },
    "papermill": {
     "duration": 0.138765,
     "end_time": "2023-09-22T14:40:53.105823",
     "exception": false,
     "start_time": "2023-09-22T14:40:52.967058",
     "status": "completed"
    },
    "tags": []
   },
   "outputs": [],
   "source": [
    "model.save('sentiment_analysis_threads.keras')"
   ]
  },
  {
   "cell_type": "code",
   "execution_count": null,
   "id": "d53e07d4",
   "metadata": {
    "papermill": {
     "duration": 0.099583,
     "end_time": "2023-09-22T14:40:53.306897",
     "exception": false,
     "start_time": "2023-09-22T14:40:53.207314",
     "status": "completed"
    },
    "tags": []
   },
   "outputs": [],
   "source": []
  }
 ],
 "metadata": {
  "kernelspec": {
   "display_name": "Python 3",
   "language": "python",
   "name": "python3"
  },
  "language_info": {
   "codemirror_mode": {
    "name": "ipython",
    "version": 3
   },
   "file_extension": ".py",
   "mimetype": "text/x-python",
   "name": "python",
   "nbconvert_exporter": "python",
   "pygments_lexer": "ipython3",
   "version": "3.10.12"
  },
  "papermill": {
   "default_parameters": {},
   "duration": 95.392797,
   "end_time": "2023-09-22T14:40:55.927336",
   "environment_variables": {},
   "exception": null,
   "input_path": "__notebook__.ipynb",
   "output_path": "__notebook__.ipynb",
   "parameters": {},
   "start_time": "2023-09-22T14:39:20.534539",
   "version": "2.4.0"
  }
 },
 "nbformat": 4,
 "nbformat_minor": 5
}
